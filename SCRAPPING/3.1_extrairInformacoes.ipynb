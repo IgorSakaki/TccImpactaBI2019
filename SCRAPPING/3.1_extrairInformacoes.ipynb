{
 "cells": [
  {
   "cell_type": "code",
   "execution_count": 1,
   "metadata": {},
   "outputs": [],
   "source": [
    "import re\n",
    "import os"
   ]
  },
  {
   "cell_type": "code",
   "execution_count": 2,
   "metadata": {},
   "outputs": [],
   "source": [
    "pathFileOrigemExtraido = 'DOWNLOAD/EXTRAIDO/'\n",
    "pathFileDestinoProcessado = 'DOWNLOAD/PROCESSADO/'"
   ]
  },
  {
   "cell_type": "code",
   "execution_count": 3,
   "metadata": {},
   "outputs": [],
   "source": [
    "textoOriginal = []\n",
    "txtNew = []\n",
    "listSqlIncra = []\n",
    "caderno = ''\n",
    "data = ''\n",
    "nmArqOriginal = ''"
   ]
  },
  {
   "cell_type": "code",
   "execution_count": 4,
   "metadata": {},
   "outputs": [],
   "source": [
    "def preProcessarTextoRemoverIfen():\n",
    "    \n",
    "    textoOriginal.reverse()\n",
    "    \n",
    "    for linha in textoOriginal:\n",
    "\n",
    "        idx = textoOriginal.index(linha)\n",
    "\n",
    "        if linha[-1:] == '-' :\n",
    "\n",
    "            idxAux = idx - 1\n",
    "            newTxt = textoOriginal[idx][:-1] + textoOriginal[idxAux] \n",
    "            txtNew.pop()\n",
    "            txtNew.append(newTxt)\n",
    "\n",
    "            textoOriginal[idx] = newTxt\n",
    "\n",
    "        else:\n",
    "            txtNew.append(textoOriginal[idx])\n",
    "    \n",
    "    txtNew.reverse()"
   ]
  },
  {
   "cell_type": "code",
   "execution_count": 5,
   "metadata": {},
   "outputs": [],
   "source": [
    "def separarInformacoesSQLIncra():\n",
    "    \n",
    "    bagOfWordsTitulo = ['RECONSIDERACAO','ALVARA','REVALIDACAO','CERTIFICADO']\n",
    "    \n",
    "    for linha in txtNew:\n",
    "    \n",
    "        if(re.findall(r'^\\d{4}\\-\\d{7}\\-\\d{1}\\s[SQL\\/INCRA]', linha)):\n",
    "\n",
    "            protocolo = ''\n",
    "            nrSqlIncra = ''\n",
    "            digito = ''\n",
    "            nome = ''\n",
    "            titulo = ''\n",
    "            status = ''\n",
    "            #descricao = ''\n",
    "\n",
    "            idx = txtNew.index(linha)\n",
    "            \n",
    "            for x in range(1,5):\n",
    "\n",
    "                if(re.findall(r'^(INDEFERIDO|DEFERIDO)[\\:]$',txtNew[idx + x])):\n",
    "\n",
    "                    status = txtNew[idx + x]\n",
    "                    #descricao =  ' '.join(txtNew[idx + x + 1 : idx + x + 7 ] if status == 'INDEFERIDO' else txtNew[ idx + x +1 :idx + x + 4])\n",
    "\n",
    "                    if x == 2: # sem ajuste\n",
    "\n",
    "                        nome = txtNew[idx] # linha\n",
    "                        titulo = txtNew[idx + 1] # titulo\n",
    "\n",
    "                    elif x == 3:\n",
    "\n",
    "                        flgIsTitulo = True\n",
    "\n",
    "                        for palavra in bagOfWordsTitulo:\n",
    "                            if txtNew[idx + 2].find(palavra) > -1:\n",
    "                                flgIsTitulo = False\n",
    "                                break\n",
    "\n",
    "                        if flgIsTitulo: # alterar titulo\n",
    "                            nome = txtNew[idx] # linha\n",
    "                            titulo = txtNew[idx + 1] + txtNew[idx + 2] # titulo\n",
    "                        else: # alterar nome\n",
    "                            nome = txtNew[idx] + txtNew[idx + 1] # linha\n",
    "                            titulo = txtNew[idx + 2] # titulo\n",
    "\n",
    "                    elif x == 4: # ajustar titulo e razao social\n",
    "                        nome = txtNew[idx] + ' ' + txtNew[idx + 1]#linha\n",
    "                        titulo = txtNew[idx + 2] + ' ' + txtNew[idx + 3]#titulo\n",
    "\n",
    "                    break\n",
    "\n",
    "            try:\n",
    "                protocolo = re.findall(r'^\\d{4}\\-\\d{7}\\-\\d{1}', nome.replace(\" \", \"\"))[0]\n",
    "                nrSqlIncra = re.findall(r'\\d{13}\\-.{1}', nome.replace(\" \", \"\"))[0]\n",
    "                digito = re.findall(r'\\s(\\d{1}|\\d{2}|\\d{3})\\s', nome)[-1]\n",
    "            except:\n",
    "                print 'This is an error message!'\n",
    "            \n",
    "            newLine = data + ';' + caderno + ';' + protocolo + ';' + nrSqlIncra + ';' + digito + ';' + nome[45:].strip() + ';' + titulo + ';' + status[:-1]# + ';' + descricao\n",
    "            novoArquivo('sqlincra', newLine)\n",
    "            "
   ]
  },
  {
   "cell_type": "code",
   "execution_count": 6,
   "metadata": {},
   "outputs": [],
   "source": [
    "def separarInformacoesParaProximasConvocacoes():\n",
    "    for linha in txtNew:\n",
    "        if(re.findall(r'^\\d{4}\\-\\d{7}\\-\\d{1}\\d{13}\\-\\d{1}(\\d{1}|\\d{2}|\\d{3})', linha.replace(\" \",\"\"))):\n",
    "            protocolo = re.findall(r'^\\d{4}\\-\\d{7}\\-\\d{1}', linha.replace(\" \",\"\"))[0]\n",
    "            nrSqlIncra = re.findall(r'\\d{13}\\-\\d{1}', linha.replace(\" \",\"\"))[0]\n",
    "            digito = re.findall(r'\\s(\\d{1}|\\d{2}|\\d{3})\\s', linha)[-1]\n",
    "            nome = ' '.join(linha.split(' ')[3:])\n",
    "            \n",
    "            newLine =  data + ';' + caderno + ';' +linha + ';' + protocolo + ';' + nrSqlIncra + ';' + digito + ';' + nome\n",
    "            novoArquivo('proxConvocacoes', newLine)"
   ]
  },
  {
   "cell_type": "code",
   "execution_count": 7,
   "metadata": {},
   "outputs": [],
   "source": [
    "def novoArquivo(tipo, newLine):\n",
    "    \n",
    "    f = open(pathFileDestinoProcessado + nmArquivoOriginal + '_' + tipo + \".csv\",\"a+\")\n",
    "    f.write(newLine + '\\n')\n",
    "    f.close()\n",
    "    "
   ]
  },
  {
   "cell_type": "code",
   "execution_count": 9,
   "metadata": {},
   "outputs": [
    {
     "name": "stdout",
     "output_type": "stream",
     "text": [
      "2018_Dezembro_14_cidade.txt\n",
      "This is an error message!\n",
      "This is an error message!\n",
      "2018_Dezembro_15_cidade.txt\n",
      "This is an error message!\n",
      "This is an error message!\n"
     ]
    }
   ],
   "source": [
    "caminho = [os.path.join(pathFileOrigemExtraido, nome) for nome in os.listdir(pathFileOrigemExtraido)]\n",
    "arquivos = [arq for arq in caminho if os.path.isfile(arq)]\n",
    "\n",
    "for arq in arquivos:\n",
    "    \n",
    "    print os.path.basename(arq)\n",
    "    \n",
    "    nmArquivoOriginal = os.path.basename(arq)[:-4]\n",
    "    \n",
    "    caderno = nmArquivoOriginal.split('_')[-1]\n",
    "    data = '_'.join(nmArquivoOriginal.split('_')[:3])\n",
    "    \n",
    "    textoOriginal = []\n",
    "    \n",
    "    with open(arq, 'r') as fileopen:\n",
    "        \n",
    "        for line in fileopen:\n",
    "            if not len(line.strip()) < 1 :\n",
    "                textoOriginal.append(line.strip().upper())\n",
    "        \n",
    "        preProcessarTextoRemoverIfen()\n",
    "        separarInformacoesSQLIncra()\n",
    "        separarInformacoesParaProximasConvocacoes()"
   ]
  },
  {
   "cell_type": "code",
   "execution_count": null,
   "metadata": {},
   "outputs": [],
   "source": []
  }
 ],
 "metadata": {
  "kernelspec": {
   "display_name": "Python 2",
   "language": "python",
   "name": "python2"
  },
  "language_info": {
   "codemirror_mode": {
    "name": "ipython",
    "version": 2
   },
   "file_extension": ".py",
   "mimetype": "text/x-python",
   "name": "python",
   "nbconvert_exporter": "python",
   "pygments_lexer": "ipython2",
   "version": "2.7.15"
  }
 },
 "nbformat": 4,
 "nbformat_minor": 2
}
