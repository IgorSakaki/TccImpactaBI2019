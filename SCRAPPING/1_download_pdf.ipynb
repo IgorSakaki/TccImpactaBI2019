{
 "cells": [
  {
   "cell_type": "code",
   "execution_count": 1,
   "metadata": {},
   "outputs": [],
   "source": [
    "from datetime import datetime"
   ]
  },
  {
   "cell_type": "code",
   "execution_count": 2,
   "metadata": {},
   "outputs": [],
   "source": [
    "from datetime import timedelta"
   ]
  },
  {
   "cell_type": "code",
   "execution_count": 3,
   "metadata": {},
   "outputs": [],
   "source": [
    "import urllib,requests"
   ]
  },
  {
   "cell_type": "code",
   "execution_count": 4,
   "metadata": {},
   "outputs": [],
   "source": [
    "import os.path"
   ]
  },
  {
   "cell_type": "code",
   "execution_count": 5,
   "metadata": {},
   "outputs": [],
   "source": [
    "urlBase = 'http://diariooficial.imprensaoficial.com.br/doflash/prototipo/'"
   ]
  },
  {
   "cell_type": "code",
   "execution_count": 24,
   "metadata": {},
   "outputs": [],
   "source": [
    "dataInicialStr = '01-09-2018'"
   ]
  },
  {
   "cell_type": "code",
   "execution_count": 25,
   "metadata": {},
   "outputs": [],
   "source": [
    "cadernoIndex = 3"
   ]
  },
  {
   "cell_type": "code",
   "execution_count": 26,
   "metadata": {},
   "outputs": [],
   "source": [
    "dataInicial = datetime.strptime(dataInicialStr, '%d-%m-%Y')"
   ]
  },
  {
   "cell_type": "code",
   "execution_count": 27,
   "metadata": {},
   "outputs": [],
   "source": [
    "diasLoop = abs((datetime.today() - dataInicial).days)"
   ]
  },
  {
   "cell_type": "code",
   "execution_count": 28,
   "metadata": {},
   "outputs": [],
   "source": [
    "path = 'DOWNLOAD/'"
   ]
  },
  {
   "cell_type": "code",
   "execution_count": 29,
   "metadata": {},
   "outputs": [],
   "source": [
    "cadernos = ['exec1','exec2','legislativo','cidade','empresarial','oab']"
   ]
  },
  {
   "cell_type": "code",
   "execution_count": 30,
   "metadata": {},
   "outputs": [],
   "source": [
    "mesPt = ['Janeiro','Fevereiro','Marco','Abril','Maio','Junho','Julho','Agosto','Setembro','Outubro','Novembro','Dezembro']"
   ]
  },
  {
   "cell_type": "code",
   "execution_count": 31,
   "metadata": {},
   "outputs": [],
   "source": [
    "def download(url,arqPath,arqName):\n",
    "    \n",
    "    r = requests.get(url)\n",
    "    \n",
    "    if(r.status_code == 200):\n",
    "        \n",
    "        if not os.path.exists(arqPath):\n",
    "            os.makedirs(arqPath)\n",
    "        \n",
    "        if not os.path.exists(arqPath + arqName):\n",
    "            with open(arqPath + arqName, 'wb') as f:\n",
    "                f.write(r.content)\n",
    "\n",
    "        return True\n",
    "    \n",
    "    else:\n",
    "        print url\n",
    "        return False "
   ]
  },
  {
   "cell_type": "code",
   "execution_count": 32,
   "metadata": {},
   "outputs": [
    {
     "name": "stdout",
     "output_type": "stream",
     "text": [
      "http://diariooficial.imprensaoficial.com.br/doflash/prototipo/2018/Setembro/01/cidade/pdf/pg_0103.pdf\n",
      "http://diariooficial.imprensaoficial.com.br/doflash/prototipo/2018/Setembro/02/cidade/pdf/pg_0001.pdf\n",
      "http://diariooficial.imprensaoficial.com.br/doflash/prototipo/2018/Setembro/03/cidade/pdf/pg_0001.pdf\n",
      "http://diariooficial.imprensaoficial.com.br/doflash/prototipo/2018/Setembro/04/cidade/pdf/pg_0131.pdf\n",
      "http://diariooficial.imprensaoficial.com.br/doflash/prototipo/2018/Setembro/05/cidade/pdf/pg_0085.pdf\n",
      "http://diariooficial.imprensaoficial.com.br/doflash/prototipo/2018/Setembro/06/cidade/pdf/pg_0085.pdf\n",
      "http://diariooficial.imprensaoficial.com.br/doflash/prototipo/2018/Setembro/07/cidade/pdf/pg_0097.pdf\n",
      "http://diariooficial.imprensaoficial.com.br/doflash/prototipo/2018/Setembro/08/cidade/pdf/pg_0001.pdf\n",
      "http://diariooficial.imprensaoficial.com.br/doflash/prototipo/2018/Setembro/09/cidade/pdf/pg_0001.pdf\n",
      "http://diariooficial.imprensaoficial.com.br/doflash/prototipo/2018/Setembro/10/cidade/pdf/pg_0001.pdf\n",
      "http://diariooficial.imprensaoficial.com.br/doflash/prototipo/2018/Setembro/11/cidade/pdf/pg_0132.pdf\n",
      "http://diariooficial.imprensaoficial.com.br/doflash/prototipo/2018/Setembro/12/cidade/pdf/pg_0096.pdf\n",
      "http://diariooficial.imprensaoficial.com.br/doflash/prototipo/2018/Setembro/13/cidade/pdf/pg_0081.pdf\n",
      "http://diariooficial.imprensaoficial.com.br/doflash/prototipo/2018/Setembro/14/cidade/pdf/pg_0095.pdf\n",
      "http://diariooficial.imprensaoficial.com.br/doflash/prototipo/2018/Setembro/15/cidade/pdf/pg_0134.pdf\n",
      "http://diariooficial.imprensaoficial.com.br/doflash/prototipo/2018/Setembro/16/cidade/pdf/pg_0001.pdf\n",
      "http://diariooficial.imprensaoficial.com.br/doflash/prototipo/2018/Setembro/17/cidade/pdf/pg_0001.pdf\n",
      "http://diariooficial.imprensaoficial.com.br/doflash/prototipo/2018/Setembro/18/cidade/pdf/pg_0084.pdf\n",
      "http://diariooficial.imprensaoficial.com.br/doflash/prototipo/2018/Setembro/19/cidade/pdf/pg_0128.pdf\n",
      "http://diariooficial.imprensaoficial.com.br/doflash/prototipo/2018/Setembro/20/cidade/pdf/pg_0108.pdf\n",
      "http://diariooficial.imprensaoficial.com.br/doflash/prototipo/2018/Setembro/21/cidade/pdf/pg_0115.pdf\n",
      "http://diariooficial.imprensaoficial.com.br/doflash/prototipo/2018/Setembro/22/cidade/pdf/pg_0088.pdf\n",
      "http://diariooficial.imprensaoficial.com.br/doflash/prototipo/2018/Setembro/23/cidade/pdf/pg_0001.pdf\n",
      "http://diariooficial.imprensaoficial.com.br/doflash/prototipo/2018/Setembro/24/cidade/pdf/pg_0001.pdf\n",
      "http://diariooficial.imprensaoficial.com.br/doflash/prototipo/2018/Setembro/25/cidade/pdf/pg_0110.pdf\n",
      "http://diariooficial.imprensaoficial.com.br/doflash/prototipo/2018/Setembro/26/cidade/pdf/pg_0094.pdf\n",
      "http://diariooficial.imprensaoficial.com.br/doflash/prototipo/2018/Setembro/27/cidade/pdf/pg_0079.pdf\n",
      "http://diariooficial.imprensaoficial.com.br/doflash/prototipo/2018/Setembro/28/cidade/pdf/pg_0104.pdf\n",
      "http://diariooficial.imprensaoficial.com.br/doflash/prototipo/2018/Setembro/29/cidade/pdf/pg_0147.pdf\n",
      "http://diariooficial.imprensaoficial.com.br/doflash/prototipo/2018/Setembro/30/cidade/pdf/pg_0001.pdf\n",
      "http://diariooficial.imprensaoficial.com.br/doflash/prototipo/2018/Outubro/01/cidade/pdf/pg_0001.pdf\n",
      "http://diariooficial.imprensaoficial.com.br/doflash/prototipo/2018/Outubro/02/cidade/pdf/pg_0163.pdf\n",
      "http://diariooficial.imprensaoficial.com.br/doflash/prototipo/2018/Outubro/03/cidade/pdf/pg_0083.pdf\n",
      "http://diariooficial.imprensaoficial.com.br/doflash/prototipo/2018/Outubro/04/cidade/pdf/pg_0088.pdf\n",
      "http://diariooficial.imprensaoficial.com.br/doflash/prototipo/2018/Outubro/05/cidade/pdf/pg_0081.pdf\n",
      "http://diariooficial.imprensaoficial.com.br/doflash/prototipo/2018/Outubro/06/cidade/pdf/pg_0135.pdf\n",
      "http://diariooficial.imprensaoficial.com.br/doflash/prototipo/2018/Outubro/07/cidade/pdf/pg_0001.pdf\n",
      "http://diariooficial.imprensaoficial.com.br/doflash/prototipo/2018/Outubro/08/cidade/pdf/pg_0001.pdf\n",
      "http://diariooficial.imprensaoficial.com.br/doflash/prototipo/2018/Outubro/09/cidade/pdf/pg_0135.pdf\n",
      "http://diariooficial.imprensaoficial.com.br/doflash/prototipo/2018/Outubro/10/cidade/pdf/pg_0089.pdf\n",
      "http://diariooficial.imprensaoficial.com.br/doflash/prototipo/2018/Outubro/11/cidade/pdf/pg_0142.pdf\n",
      "http://diariooficial.imprensaoficial.com.br/doflash/prototipo/2018/Outubro/12/cidade/pdf/pg_0101.pdf\n",
      "http://diariooficial.imprensaoficial.com.br/doflash/prototipo/2018/Outubro/13/cidade/pdf/pg_0001.pdf\n",
      "http://diariooficial.imprensaoficial.com.br/doflash/prototipo/2018/Outubro/14/cidade/pdf/pg_0001.pdf\n",
      "http://diariooficial.imprensaoficial.com.br/doflash/prototipo/2018/Outubro/15/cidade/pdf/pg_0001.pdf\n",
      "http://diariooficial.imprensaoficial.com.br/doflash/prototipo/2018/Outubro/16/cidade/pdf/pg_0089.pdf\n",
      "http://diariooficial.imprensaoficial.com.br/doflash/prototipo/2018/Outubro/17/cidade/pdf/pg_0095.pdf\n",
      "http://diariooficial.imprensaoficial.com.br/doflash/prototipo/2018/Outubro/18/cidade/pdf/pg_0094.pdf\n",
      "http://diariooficial.imprensaoficial.com.br/doflash/prototipo/2018/Outubro/19/cidade/pdf/pg_0083.pdf\n",
      "http://diariooficial.imprensaoficial.com.br/doflash/prototipo/2018/Outubro/20/cidade/pdf/pg_0191.pdf\n",
      "http://diariooficial.imprensaoficial.com.br/doflash/prototipo/2018/Outubro/21/cidade/pdf/pg_0001.pdf\n",
      "http://diariooficial.imprensaoficial.com.br/doflash/prototipo/2018/Outubro/22/cidade/pdf/pg_0001.pdf\n",
      "http://diariooficial.imprensaoficial.com.br/doflash/prototipo/2018/Outubro/23/cidade/pdf/pg_0099.pdf\n",
      "http://diariooficial.imprensaoficial.com.br/doflash/prototipo/2018/Outubro/24/cidade/pdf/pg_0140.pdf\n",
      "http://diariooficial.imprensaoficial.com.br/doflash/prototipo/2018/Outubro/25/cidade/pdf/pg_0076.pdf\n",
      "http://diariooficial.imprensaoficial.com.br/doflash/prototipo/2018/Outubro/26/cidade/pdf/pg_0079.pdf\n",
      "http://diariooficial.imprensaoficial.com.br/doflash/prototipo/2018/Outubro/27/cidade/pdf/pg_0120.pdf\n",
      "http://diariooficial.imprensaoficial.com.br/doflash/prototipo/2018/Outubro/28/cidade/pdf/pg_0001.pdf\n",
      "http://diariooficial.imprensaoficial.com.br/doflash/prototipo/2018/Outubro/29/cidade/pdf/pg_0001.pdf\n",
      "http://diariooficial.imprensaoficial.com.br/doflash/prototipo/2018/Outubro/30/cidade/pdf/pg_0133.pdf\n",
      "http://diariooficial.imprensaoficial.com.br/doflash/prototipo/2018/Outubro/31/cidade/pdf/pg_0097.pdf\n",
      "http://diariooficial.imprensaoficial.com.br/doflash/prototipo/2018/Novembro/01/cidade/pdf/pg_0111.pdf\n",
      "http://diariooficial.imprensaoficial.com.br/doflash/prototipo/2018/Novembro/02/cidade/pdf/pg_0153.pdf\n",
      "http://diariooficial.imprensaoficial.com.br/doflash/prototipo/2018/Novembro/03/cidade/pdf/pg_0001.pdf\n",
      "http://diariooficial.imprensaoficial.com.br/doflash/prototipo/2018/Novembro/04/cidade/pdf/pg_0001.pdf\n",
      "http://diariooficial.imprensaoficial.com.br/doflash/prototipo/2018/Novembro/05/cidade/pdf/pg_0001.pdf\n",
      "http://diariooficial.imprensaoficial.com.br/doflash/prototipo/2018/Novembro/06/cidade/pdf/pg_0137.pdf\n",
      "http://diariooficial.imprensaoficial.com.br/doflash/prototipo/2018/Novembro/07/cidade/pdf/pg_0081.pdf\n",
      "http://diariooficial.imprensaoficial.com.br/doflash/prototipo/2018/Novembro/08/cidade/pdf/pg_0079.pdf\n",
      "http://diariooficial.imprensaoficial.com.br/doflash/prototipo/2018/Novembro/09/cidade/pdf/pg_0105.pdf\n",
      "http://diariooficial.imprensaoficial.com.br/doflash/prototipo/2018/Novembro/10/cidade/pdf/pg_0091.pdf\n",
      "http://diariooficial.imprensaoficial.com.br/doflash/prototipo/2018/Novembro/11/cidade/pdf/pg_0001.pdf\n",
      "http://diariooficial.imprensaoficial.com.br/doflash/prototipo/2018/Novembro/12/cidade/pdf/pg_0001.pdf\n",
      "http://diariooficial.imprensaoficial.com.br/doflash/prototipo/2018/Novembro/13/cidade/pdf/pg_0219.pdf\n",
      "http://diariooficial.imprensaoficial.com.br/doflash/prototipo/2018/Novembro/14/cidade/pdf/pg_0095.pdf\n",
      "http://diariooficial.imprensaoficial.com.br/doflash/prototipo/2018/Novembro/15/cidade/pdf/pg_0174.pdf\n",
      "http://diariooficial.imprensaoficial.com.br/doflash/prototipo/2018/Novembro/16/cidade/pdf/pg_0001.pdf\n",
      "http://diariooficial.imprensaoficial.com.br/doflash/prototipo/2018/Novembro/17/cidade/pdf/pg_0001.pdf\n",
      "http://diariooficial.imprensaoficial.com.br/doflash/prototipo/2018/Novembro/18/cidade/pdf/pg_0001.pdf\n",
      "http://diariooficial.imprensaoficial.com.br/doflash/prototipo/2018/Novembro/19/cidade/pdf/pg_0001.pdf\n",
      "http://diariooficial.imprensaoficial.com.br/doflash/prototipo/2018/Novembro/20/cidade/pdf/pg_0002.pdf\n",
      "http://diariooficial.imprensaoficial.com.br/doflash/prototipo/2018/Novembro/21/cidade/pdf/pg_0001.pdf\n"
     ]
    },
    {
     "name": "stdout",
     "output_type": "stream",
     "text": [
      "http://diariooficial.imprensaoficial.com.br/doflash/prototipo/2018/Novembro/22/cidade/pdf/pg_0121.pdf\n",
      "http://diariooficial.imprensaoficial.com.br/doflash/prototipo/2018/Novembro/23/cidade/pdf/pg_0139.pdf\n",
      "http://diariooficial.imprensaoficial.com.br/doflash/prototipo/2018/Novembro/24/cidade/pdf/pg_0338.pdf\n",
      "http://diariooficial.imprensaoficial.com.br/doflash/prototipo/2018/Novembro/25/cidade/pdf/pg_0001.pdf\n",
      "http://diariooficial.imprensaoficial.com.br/doflash/prototipo/2018/Novembro/26/cidade/pdf/pg_0001.pdf\n",
      "http://diariooficial.imprensaoficial.com.br/doflash/prototipo/2018/Novembro/27/cidade/pdf/pg_0107.pdf\n",
      "http://diariooficial.imprensaoficial.com.br/doflash/prototipo/2018/Novembro/28/cidade/pdf/pg_0110.pdf\n",
      "http://diariooficial.imprensaoficial.com.br/doflash/prototipo/2018/Novembro/29/cidade/pdf/pg_0093.pdf\n",
      "http://diariooficial.imprensaoficial.com.br/doflash/prototipo/2018/Novembro/30/cidade/pdf/pg_0148.pdf\n",
      "http://diariooficial.imprensaoficial.com.br/doflash/prototipo/2018/Dezembro/01/cidade/pdf/pg_0123.pdf\n",
      "http://diariooficial.imprensaoficial.com.br/doflash/prototipo/2018/Dezembro/02/cidade/pdf/pg_0001.pdf\n",
      "http://diariooficial.imprensaoficial.com.br/doflash/prototipo/2018/Dezembro/03/cidade/pdf/pg_0001.pdf\n",
      "http://diariooficial.imprensaoficial.com.br/doflash/prototipo/2018/Dezembro/04/cidade/pdf/pg_0119.pdf\n",
      "http://diariooficial.imprensaoficial.com.br/doflash/prototipo/2018/Dezembro/05/cidade/pdf/pg_0115.pdf\n",
      "http://diariooficial.imprensaoficial.com.br/doflash/prototipo/2018/Dezembro/06/cidade/pdf/pg_0106.pdf\n",
      "http://diariooficial.imprensaoficial.com.br/doflash/prototipo/2018/Dezembro/07/cidade/pdf/pg_0115.pdf\n",
      "http://diariooficial.imprensaoficial.com.br/doflash/prototipo/2018/Dezembro/08/cidade/pdf/pg_0111.pdf\n",
      "http://diariooficial.imprensaoficial.com.br/doflash/prototipo/2018/Dezembro/09/cidade/pdf/pg_0001.pdf\n",
      "http://diariooficial.imprensaoficial.com.br/doflash/prototipo/2018/Dezembro/10/cidade/pdf/pg_0001.pdf\n",
      "http://diariooficial.imprensaoficial.com.br/doflash/prototipo/2018/Dezembro/11/cidade/pdf/pg_0141.pdf\n",
      "http://diariooficial.imprensaoficial.com.br/doflash/prototipo/2018/Dezembro/12/cidade/pdf/pg_0100.pdf\n",
      "http://diariooficial.imprensaoficial.com.br/doflash/prototipo/2018/Dezembro/13/cidade/pdf/pg_0117.pdf\n",
      "http://diariooficial.imprensaoficial.com.br/doflash/prototipo/2018/Dezembro/14/cidade/pdf/pg_0146.pdf\n",
      "http://diariooficial.imprensaoficial.com.br/doflash/prototipo/2018/Dezembro/15/cidade/pdf/pg_0357.pdf\n",
      "http://diariooficial.imprensaoficial.com.br/doflash/prototipo/2018/Dezembro/16/cidade/pdf/pg_0001.pdf\n",
      "http://diariooficial.imprensaoficial.com.br/doflash/prototipo/2018/Dezembro/17/cidade/pdf/pg_0001.pdf\n",
      "http://diariooficial.imprensaoficial.com.br/doflash/prototipo/2018/Dezembro/18/cidade/pdf/pg_0093.pdf\n",
      "http://diariooficial.imprensaoficial.com.br/doflash/prototipo/2018/Dezembro/19/cidade/pdf/pg_0159.pdf\n",
      "http://diariooficial.imprensaoficial.com.br/doflash/prototipo/2018/Dezembro/20/cidade/pdf/pg_0181.pdf\n",
      "http://diariooficial.imprensaoficial.com.br/doflash/prototipo/2018/Dezembro/21/cidade/pdf/pg_0128.pdf\n",
      "http://diariooficial.imprensaoficial.com.br/doflash/prototipo/2018/Dezembro/22/cidade/pdf/pg_0125.pdf\n",
      "http://diariooficial.imprensaoficial.com.br/doflash/prototipo/2018/Dezembro/23/cidade/pdf/pg_0001.pdf\n",
      "http://diariooficial.imprensaoficial.com.br/doflash/prototipo/2018/Dezembro/24/cidade/pdf/pg_0001.pdf\n",
      "http://diariooficial.imprensaoficial.com.br/doflash/prototipo/2018/Dezembro/25/cidade/pdf/pg_0001.pdf\n",
      "http://diariooficial.imprensaoficial.com.br/doflash/prototipo/2018/Dezembro/26/cidade/pdf/pg_0001.pdf\n",
      "http://diariooficial.imprensaoficial.com.br/doflash/prototipo/2018/Dezembro/27/cidade/pdf/pg_0085.pdf\n",
      "http://diariooficial.imprensaoficial.com.br/doflash/prototipo/2018/Dezembro/28/cidade/pdf/pg_0071.pdf\n",
      "http://diariooficial.imprensaoficial.com.br/doflash/prototipo/2018/Dezembro/29/cidade/pdf/pg_0078.pdf\n",
      "http://diariooficial.imprensaoficial.com.br/doflash/prototipo/2018/Dezembro/30/cidade/pdf/pg_0001.pdf\n",
      "http://diariooficial.imprensaoficial.com.br/doflash/prototipo/2018/Dezembro/31/cidade/pdf/pg_0001.pdf\n",
      "http://diariooficial.imprensaoficial.com.br/doflash/prototipo/2019/Janeiro/01/cidade/pdf/pg_0001.pdf\n",
      "http://diariooficial.imprensaoficial.com.br/doflash/prototipo/2019/Janeiro/02/cidade/pdf/pg_0001.pdf\n",
      "http://diariooficial.imprensaoficial.com.br/doflash/prototipo/2019/Janeiro/03/cidade/pdf/pg_0035.pdf\n",
      "http://diariooficial.imprensaoficial.com.br/doflash/prototipo/2019/Janeiro/04/cidade/pdf/pg_0054.pdf\n",
      "http://diariooficial.imprensaoficial.com.br/doflash/prototipo/2019/Janeiro/05/cidade/pdf/pg_0043.pdf\n",
      "http://diariooficial.imprensaoficial.com.br/doflash/prototipo/2019/Janeiro/06/cidade/pdf/pg_0001.pdf\n",
      "http://diariooficial.imprensaoficial.com.br/doflash/prototipo/2019/Janeiro/07/cidade/pdf/pg_0001.pdf\n",
      "http://diariooficial.imprensaoficial.com.br/doflash/prototipo/2019/Janeiro/08/cidade/pdf/pg_0057.pdf\n",
      "http://diariooficial.imprensaoficial.com.br/doflash/prototipo/2019/Janeiro/09/cidade/pdf/pg_0051.pdf\n",
      "http://diariooficial.imprensaoficial.com.br/doflash/prototipo/2019/Janeiro/10/cidade/pdf/pg_0074.pdf\n"
     ]
    },
    {
     "ename": "KeyboardInterrupt",
     "evalue": "",
     "output_type": "error",
     "traceback": [
      "\u001b[0;31m---------------------------------------------------------------------------\u001b[0m",
      "\u001b[0;31mKeyboardInterrupt\u001b[0m                         Traceback (most recent call last)",
      "\u001b[0;32m<ipython-input-32-c6df1dceee22>\u001b[0m in \u001b[0;36m<module>\u001b[0;34m()\u001b[0m\n\u001b[1;32m     11\u001b[0m \u001b[0;34m\u001b[0m\u001b[0m\n\u001b[1;32m     12\u001b[0m         \u001b[0mpagina\u001b[0m \u001b[0;34m+=\u001b[0m \u001b[0;36m1\u001b[0m\u001b[0;34m\u001b[0m\u001b[0m\n\u001b[0;32m---> 13\u001b[0;31m         \u001b[0mflgStop\u001b[0m \u001b[0;34m=\u001b[0m \u001b[0mdownload\u001b[0m\u001b[0;34m(\u001b[0m\u001b[0murl\u001b[0m\u001b[0;34m,\u001b[0m\u001b[0marqPath\u001b[0m\u001b[0;34m,\u001b[0m\u001b[0marqName\u001b[0m\u001b[0;34m)\u001b[0m\u001b[0;34m\u001b[0m\u001b[0m\n\u001b[0m\u001b[1;32m     14\u001b[0m \u001b[0;34m\u001b[0m\u001b[0m\n\u001b[1;32m     15\u001b[0m     \u001b[0mdataInicial\u001b[0m \u001b[0;34m=\u001b[0m \u001b[0mdataInicial\u001b[0m \u001b[0;34m+\u001b[0m \u001b[0mtimedelta\u001b[0m\u001b[0;34m(\u001b[0m\u001b[0mdays\u001b[0m\u001b[0;34m=\u001b[0m\u001b[0;36m1\u001b[0m\u001b[0;34m)\u001b[0m\u001b[0;34m\u001b[0m\u001b[0m\n",
      "\u001b[0;32m<ipython-input-31-ee0a8ec6db9c>\u001b[0m in \u001b[0;36mdownload\u001b[0;34m(url, arqPath, arqName)\u001b[0m\n\u001b[1;32m      1\u001b[0m \u001b[0;32mdef\u001b[0m \u001b[0mdownload\u001b[0m\u001b[0;34m(\u001b[0m\u001b[0murl\u001b[0m\u001b[0;34m,\u001b[0m\u001b[0marqPath\u001b[0m\u001b[0;34m,\u001b[0m\u001b[0marqName\u001b[0m\u001b[0;34m)\u001b[0m\u001b[0;34m:\u001b[0m\u001b[0;34m\u001b[0m\u001b[0m\n\u001b[1;32m      2\u001b[0m \u001b[0;34m\u001b[0m\u001b[0m\n\u001b[0;32m----> 3\u001b[0;31m     \u001b[0mr\u001b[0m \u001b[0;34m=\u001b[0m \u001b[0mrequests\u001b[0m\u001b[0;34m.\u001b[0m\u001b[0mget\u001b[0m\u001b[0;34m(\u001b[0m\u001b[0murl\u001b[0m\u001b[0;34m)\u001b[0m\u001b[0;34m\u001b[0m\u001b[0m\n\u001b[0m\u001b[1;32m      4\u001b[0m \u001b[0;34m\u001b[0m\u001b[0m\n\u001b[1;32m      5\u001b[0m     \u001b[0;32mif\u001b[0m\u001b[0;34m(\u001b[0m\u001b[0mr\u001b[0m\u001b[0;34m.\u001b[0m\u001b[0mstatus_code\u001b[0m \u001b[0;34m==\u001b[0m \u001b[0;36m200\u001b[0m\u001b[0;34m)\u001b[0m\u001b[0;34m:\u001b[0m\u001b[0;34m\u001b[0m\u001b[0m\n",
      "\u001b[0;32m/home/sakaki/anaconda2/lib/python2.7/site-packages/requests/api.pyc\u001b[0m in \u001b[0;36mget\u001b[0;34m(url, params, **kwargs)\u001b[0m\n\u001b[1;32m     73\u001b[0m \u001b[0;34m\u001b[0m\u001b[0m\n\u001b[1;32m     74\u001b[0m     \u001b[0mkwargs\u001b[0m\u001b[0;34m.\u001b[0m\u001b[0msetdefault\u001b[0m\u001b[0;34m(\u001b[0m\u001b[0;34m'allow_redirects'\u001b[0m\u001b[0;34m,\u001b[0m \u001b[0mTrue\u001b[0m\u001b[0;34m)\u001b[0m\u001b[0;34m\u001b[0m\u001b[0m\n\u001b[0;32m---> 75\u001b[0;31m     \u001b[0;32mreturn\u001b[0m \u001b[0mrequest\u001b[0m\u001b[0;34m(\u001b[0m\u001b[0;34m'get'\u001b[0m\u001b[0;34m,\u001b[0m \u001b[0murl\u001b[0m\u001b[0;34m,\u001b[0m \u001b[0mparams\u001b[0m\u001b[0;34m=\u001b[0m\u001b[0mparams\u001b[0m\u001b[0;34m,\u001b[0m \u001b[0;34m**\u001b[0m\u001b[0mkwargs\u001b[0m\u001b[0;34m)\u001b[0m\u001b[0;34m\u001b[0m\u001b[0m\n\u001b[0m\u001b[1;32m     76\u001b[0m \u001b[0;34m\u001b[0m\u001b[0m\n\u001b[1;32m     77\u001b[0m \u001b[0;34m\u001b[0m\u001b[0m\n",
      "\u001b[0;32m/home/sakaki/anaconda2/lib/python2.7/site-packages/requests/api.pyc\u001b[0m in \u001b[0;36mrequest\u001b[0;34m(method, url, **kwargs)\u001b[0m\n\u001b[1;32m     58\u001b[0m     \u001b[0;31m# cases, and look like a memory leak in others.\u001b[0m\u001b[0;34m\u001b[0m\u001b[0;34m\u001b[0m\u001b[0m\n\u001b[1;32m     59\u001b[0m     \u001b[0;32mwith\u001b[0m \u001b[0msessions\u001b[0m\u001b[0;34m.\u001b[0m\u001b[0mSession\u001b[0m\u001b[0;34m(\u001b[0m\u001b[0;34m)\u001b[0m \u001b[0;32mas\u001b[0m \u001b[0msession\u001b[0m\u001b[0;34m:\u001b[0m\u001b[0;34m\u001b[0m\u001b[0m\n\u001b[0;32m---> 60\u001b[0;31m         \u001b[0;32mreturn\u001b[0m \u001b[0msession\u001b[0m\u001b[0;34m.\u001b[0m\u001b[0mrequest\u001b[0m\u001b[0;34m(\u001b[0m\u001b[0mmethod\u001b[0m\u001b[0;34m=\u001b[0m\u001b[0mmethod\u001b[0m\u001b[0;34m,\u001b[0m \u001b[0murl\u001b[0m\u001b[0;34m=\u001b[0m\u001b[0murl\u001b[0m\u001b[0;34m,\u001b[0m \u001b[0;34m**\u001b[0m\u001b[0mkwargs\u001b[0m\u001b[0;34m)\u001b[0m\u001b[0;34m\u001b[0m\u001b[0m\n\u001b[0m\u001b[1;32m     61\u001b[0m \u001b[0;34m\u001b[0m\u001b[0m\n\u001b[1;32m     62\u001b[0m \u001b[0;34m\u001b[0m\u001b[0m\n",
      "\u001b[0;32m/home/sakaki/anaconda2/lib/python2.7/site-packages/requests/sessions.pyc\u001b[0m in \u001b[0;36mrequest\u001b[0;34m(self, method, url, params, data, headers, cookies, files, auth, timeout, allow_redirects, proxies, hooks, stream, verify, cert, json)\u001b[0m\n\u001b[1;32m    531\u001b[0m         }\n\u001b[1;32m    532\u001b[0m         \u001b[0msend_kwargs\u001b[0m\u001b[0;34m.\u001b[0m\u001b[0mupdate\u001b[0m\u001b[0;34m(\u001b[0m\u001b[0msettings\u001b[0m\u001b[0;34m)\u001b[0m\u001b[0;34m\u001b[0m\u001b[0m\n\u001b[0;32m--> 533\u001b[0;31m         \u001b[0mresp\u001b[0m \u001b[0;34m=\u001b[0m \u001b[0mself\u001b[0m\u001b[0;34m.\u001b[0m\u001b[0msend\u001b[0m\u001b[0;34m(\u001b[0m\u001b[0mprep\u001b[0m\u001b[0;34m,\u001b[0m \u001b[0;34m**\u001b[0m\u001b[0msend_kwargs\u001b[0m\u001b[0;34m)\u001b[0m\u001b[0;34m\u001b[0m\u001b[0m\n\u001b[0m\u001b[1;32m    534\u001b[0m \u001b[0;34m\u001b[0m\u001b[0m\n\u001b[1;32m    535\u001b[0m         \u001b[0;32mreturn\u001b[0m \u001b[0mresp\u001b[0m\u001b[0;34m\u001b[0m\u001b[0m\n",
      "\u001b[0;32m/home/sakaki/anaconda2/lib/python2.7/site-packages/requests/sessions.pyc\u001b[0m in \u001b[0;36msend\u001b[0;34m(self, request, **kwargs)\u001b[0m\n\u001b[1;32m    644\u001b[0m \u001b[0;34m\u001b[0m\u001b[0m\n\u001b[1;32m    645\u001b[0m         \u001b[0;31m# Send the request\u001b[0m\u001b[0;34m\u001b[0m\u001b[0;34m\u001b[0m\u001b[0m\n\u001b[0;32m--> 646\u001b[0;31m         \u001b[0mr\u001b[0m \u001b[0;34m=\u001b[0m \u001b[0madapter\u001b[0m\u001b[0;34m.\u001b[0m\u001b[0msend\u001b[0m\u001b[0;34m(\u001b[0m\u001b[0mrequest\u001b[0m\u001b[0;34m,\u001b[0m \u001b[0;34m**\u001b[0m\u001b[0mkwargs\u001b[0m\u001b[0;34m)\u001b[0m\u001b[0;34m\u001b[0m\u001b[0m\n\u001b[0m\u001b[1;32m    647\u001b[0m \u001b[0;34m\u001b[0m\u001b[0m\n\u001b[1;32m    648\u001b[0m         \u001b[0;31m# Total elapsed time of the request (approximately)\u001b[0m\u001b[0;34m\u001b[0m\u001b[0;34m\u001b[0m\u001b[0m\n",
      "\u001b[0;32m/home/sakaki/anaconda2/lib/python2.7/site-packages/requests/adapters.pyc\u001b[0m in \u001b[0;36msend\u001b[0;34m(self, request, stream, timeout, verify, cert, proxies)\u001b[0m\n\u001b[1;32m    447\u001b[0m                     \u001b[0mdecode_content\u001b[0m\u001b[0;34m=\u001b[0m\u001b[0mFalse\u001b[0m\u001b[0;34m,\u001b[0m\u001b[0;34m\u001b[0m\u001b[0m\n\u001b[1;32m    448\u001b[0m                     \u001b[0mretries\u001b[0m\u001b[0;34m=\u001b[0m\u001b[0mself\u001b[0m\u001b[0;34m.\u001b[0m\u001b[0mmax_retries\u001b[0m\u001b[0;34m,\u001b[0m\u001b[0;34m\u001b[0m\u001b[0m\n\u001b[0;32m--> 449\u001b[0;31m                     \u001b[0mtimeout\u001b[0m\u001b[0;34m=\u001b[0m\u001b[0mtimeout\u001b[0m\u001b[0;34m\u001b[0m\u001b[0m\n\u001b[0m\u001b[1;32m    450\u001b[0m                 )\n\u001b[1;32m    451\u001b[0m \u001b[0;34m\u001b[0m\u001b[0m\n",
      "\u001b[0;32m/home/sakaki/anaconda2/lib/python2.7/site-packages/urllib3/connectionpool.pyc\u001b[0m in \u001b[0;36murlopen\u001b[0;34m(self, method, url, body, headers, retries, redirect, assert_same_host, timeout, pool_timeout, release_conn, chunked, body_pos, **response_kw)\u001b[0m\n\u001b[1;32m    598\u001b[0m                                                   \u001b[0mtimeout\u001b[0m\u001b[0;34m=\u001b[0m\u001b[0mtimeout_obj\u001b[0m\u001b[0;34m,\u001b[0m\u001b[0;34m\u001b[0m\u001b[0m\n\u001b[1;32m    599\u001b[0m                                                   \u001b[0mbody\u001b[0m\u001b[0;34m=\u001b[0m\u001b[0mbody\u001b[0m\u001b[0;34m,\u001b[0m \u001b[0mheaders\u001b[0m\u001b[0;34m=\u001b[0m\u001b[0mheaders\u001b[0m\u001b[0;34m,\u001b[0m\u001b[0;34m\u001b[0m\u001b[0m\n\u001b[0;32m--> 600\u001b[0;31m                                                   chunked=chunked)\n\u001b[0m\u001b[1;32m    601\u001b[0m \u001b[0;34m\u001b[0m\u001b[0m\n\u001b[1;32m    602\u001b[0m             \u001b[0;31m# If we're going to release the connection in ``finally:``, then\u001b[0m\u001b[0;34m\u001b[0m\u001b[0;34m\u001b[0m\u001b[0m\n",
      "\u001b[0;32m/home/sakaki/anaconda2/lib/python2.7/site-packages/urllib3/connectionpool.pyc\u001b[0m in \u001b[0;36m_make_request\u001b[0;34m(self, conn, method, url, timeout, chunked, **httplib_request_kw)\u001b[0m\n\u001b[1;32m    352\u001b[0m             \u001b[0mconn\u001b[0m\u001b[0;34m.\u001b[0m\u001b[0mrequest_chunked\u001b[0m\u001b[0;34m(\u001b[0m\u001b[0mmethod\u001b[0m\u001b[0;34m,\u001b[0m \u001b[0murl\u001b[0m\u001b[0;34m,\u001b[0m \u001b[0;34m**\u001b[0m\u001b[0mhttplib_request_kw\u001b[0m\u001b[0;34m)\u001b[0m\u001b[0;34m\u001b[0m\u001b[0m\n\u001b[1;32m    353\u001b[0m         \u001b[0;32melse\u001b[0m\u001b[0;34m:\u001b[0m\u001b[0;34m\u001b[0m\u001b[0m\n\u001b[0;32m--> 354\u001b[0;31m             \u001b[0mconn\u001b[0m\u001b[0;34m.\u001b[0m\u001b[0mrequest\u001b[0m\u001b[0;34m(\u001b[0m\u001b[0mmethod\u001b[0m\u001b[0;34m,\u001b[0m \u001b[0murl\u001b[0m\u001b[0;34m,\u001b[0m \u001b[0;34m**\u001b[0m\u001b[0mhttplib_request_kw\u001b[0m\u001b[0;34m)\u001b[0m\u001b[0;34m\u001b[0m\u001b[0m\n\u001b[0m\u001b[1;32m    355\u001b[0m \u001b[0;34m\u001b[0m\u001b[0m\n\u001b[1;32m    356\u001b[0m         \u001b[0;31m# Reset the timeout for the recv() on the socket\u001b[0m\u001b[0;34m\u001b[0m\u001b[0;34m\u001b[0m\u001b[0m\n",
      "\u001b[0;32m/home/sakaki/anaconda2/lib/python2.7/httplib.pyc\u001b[0m in \u001b[0;36mrequest\u001b[0;34m(self, method, url, body, headers)\u001b[0m\n\u001b[1;32m   1040\u001b[0m     \u001b[0;32mdef\u001b[0m \u001b[0mrequest\u001b[0m\u001b[0;34m(\u001b[0m\u001b[0mself\u001b[0m\u001b[0;34m,\u001b[0m \u001b[0mmethod\u001b[0m\u001b[0;34m,\u001b[0m \u001b[0murl\u001b[0m\u001b[0;34m,\u001b[0m \u001b[0mbody\u001b[0m\u001b[0;34m=\u001b[0m\u001b[0mNone\u001b[0m\u001b[0;34m,\u001b[0m \u001b[0mheaders\u001b[0m\u001b[0;34m=\u001b[0m\u001b[0;34m{\u001b[0m\u001b[0;34m}\u001b[0m\u001b[0;34m)\u001b[0m\u001b[0;34m:\u001b[0m\u001b[0;34m\u001b[0m\u001b[0m\n\u001b[1;32m   1041\u001b[0m         \u001b[0;34m\"\"\"Send a complete request to the server.\"\"\"\u001b[0m\u001b[0;34m\u001b[0m\u001b[0m\n\u001b[0;32m-> 1042\u001b[0;31m         \u001b[0mself\u001b[0m\u001b[0;34m.\u001b[0m\u001b[0m_send_request\u001b[0m\u001b[0;34m(\u001b[0m\u001b[0mmethod\u001b[0m\u001b[0;34m,\u001b[0m \u001b[0murl\u001b[0m\u001b[0;34m,\u001b[0m \u001b[0mbody\u001b[0m\u001b[0;34m,\u001b[0m \u001b[0mheaders\u001b[0m\u001b[0;34m)\u001b[0m\u001b[0;34m\u001b[0m\u001b[0m\n\u001b[0m\u001b[1;32m   1043\u001b[0m \u001b[0;34m\u001b[0m\u001b[0m\n\u001b[1;32m   1044\u001b[0m     \u001b[0;32mdef\u001b[0m \u001b[0m_set_content_length\u001b[0m\u001b[0;34m(\u001b[0m\u001b[0mself\u001b[0m\u001b[0;34m,\u001b[0m \u001b[0mbody\u001b[0m\u001b[0;34m,\u001b[0m \u001b[0mmethod\u001b[0m\u001b[0;34m)\u001b[0m\u001b[0;34m:\u001b[0m\u001b[0;34m\u001b[0m\u001b[0m\n",
      "\u001b[0;32m/home/sakaki/anaconda2/lib/python2.7/httplib.pyc\u001b[0m in \u001b[0;36m_send_request\u001b[0;34m(self, method, url, body, headers)\u001b[0m\n\u001b[1;32m   1080\u001b[0m         \u001b[0;32mfor\u001b[0m \u001b[0mhdr\u001b[0m\u001b[0;34m,\u001b[0m \u001b[0mvalue\u001b[0m \u001b[0;32min\u001b[0m \u001b[0mheaders\u001b[0m\u001b[0;34m.\u001b[0m\u001b[0miteritems\u001b[0m\u001b[0;34m(\u001b[0m\u001b[0;34m)\u001b[0m\u001b[0;34m:\u001b[0m\u001b[0;34m\u001b[0m\u001b[0m\n\u001b[1;32m   1081\u001b[0m             \u001b[0mself\u001b[0m\u001b[0;34m.\u001b[0m\u001b[0mputheader\u001b[0m\u001b[0;34m(\u001b[0m\u001b[0mhdr\u001b[0m\u001b[0;34m,\u001b[0m \u001b[0mvalue\u001b[0m\u001b[0;34m)\u001b[0m\u001b[0;34m\u001b[0m\u001b[0m\n\u001b[0;32m-> 1082\u001b[0;31m         \u001b[0mself\u001b[0m\u001b[0;34m.\u001b[0m\u001b[0mendheaders\u001b[0m\u001b[0;34m(\u001b[0m\u001b[0mbody\u001b[0m\u001b[0;34m)\u001b[0m\u001b[0;34m\u001b[0m\u001b[0m\n\u001b[0m\u001b[1;32m   1083\u001b[0m \u001b[0;34m\u001b[0m\u001b[0m\n\u001b[1;32m   1084\u001b[0m     \u001b[0;32mdef\u001b[0m \u001b[0mgetresponse\u001b[0m\u001b[0;34m(\u001b[0m\u001b[0mself\u001b[0m\u001b[0;34m,\u001b[0m \u001b[0mbuffering\u001b[0m\u001b[0;34m=\u001b[0m\u001b[0mFalse\u001b[0m\u001b[0;34m)\u001b[0m\u001b[0;34m:\u001b[0m\u001b[0;34m\u001b[0m\u001b[0m\n",
      "\u001b[0;32m/home/sakaki/anaconda2/lib/python2.7/httplib.pyc\u001b[0m in \u001b[0;36mendheaders\u001b[0;34m(self, message_body)\u001b[0m\n\u001b[1;32m   1036\u001b[0m         \u001b[0;32melse\u001b[0m\u001b[0;34m:\u001b[0m\u001b[0;34m\u001b[0m\u001b[0m\n\u001b[1;32m   1037\u001b[0m             \u001b[0;32mraise\u001b[0m \u001b[0mCannotSendHeader\u001b[0m\u001b[0;34m(\u001b[0m\u001b[0;34m)\u001b[0m\u001b[0;34m\u001b[0m\u001b[0m\n\u001b[0;32m-> 1038\u001b[0;31m         \u001b[0mself\u001b[0m\u001b[0;34m.\u001b[0m\u001b[0m_send_output\u001b[0m\u001b[0;34m(\u001b[0m\u001b[0mmessage_body\u001b[0m\u001b[0;34m)\u001b[0m\u001b[0;34m\u001b[0m\u001b[0m\n\u001b[0m\u001b[1;32m   1039\u001b[0m \u001b[0;34m\u001b[0m\u001b[0m\n\u001b[1;32m   1040\u001b[0m     \u001b[0;32mdef\u001b[0m \u001b[0mrequest\u001b[0m\u001b[0;34m(\u001b[0m\u001b[0mself\u001b[0m\u001b[0;34m,\u001b[0m \u001b[0mmethod\u001b[0m\u001b[0;34m,\u001b[0m \u001b[0murl\u001b[0m\u001b[0;34m,\u001b[0m \u001b[0mbody\u001b[0m\u001b[0;34m=\u001b[0m\u001b[0mNone\u001b[0m\u001b[0;34m,\u001b[0m \u001b[0mheaders\u001b[0m\u001b[0;34m=\u001b[0m\u001b[0;34m{\u001b[0m\u001b[0;34m}\u001b[0m\u001b[0;34m)\u001b[0m\u001b[0;34m:\u001b[0m\u001b[0;34m\u001b[0m\u001b[0m\n",
      "\u001b[0;32m/home/sakaki/anaconda2/lib/python2.7/httplib.pyc\u001b[0m in \u001b[0;36m_send_output\u001b[0;34m(self, message_body)\u001b[0m\n\u001b[1;32m    880\u001b[0m             \u001b[0mmsg\u001b[0m \u001b[0;34m+=\u001b[0m \u001b[0mmessage_body\u001b[0m\u001b[0;34m\u001b[0m\u001b[0m\n\u001b[1;32m    881\u001b[0m             \u001b[0mmessage_body\u001b[0m \u001b[0;34m=\u001b[0m \u001b[0mNone\u001b[0m\u001b[0;34m\u001b[0m\u001b[0m\n\u001b[0;32m--> 882\u001b[0;31m         \u001b[0mself\u001b[0m\u001b[0;34m.\u001b[0m\u001b[0msend\u001b[0m\u001b[0;34m(\u001b[0m\u001b[0mmsg\u001b[0m\u001b[0;34m)\u001b[0m\u001b[0;34m\u001b[0m\u001b[0m\n\u001b[0m\u001b[1;32m    883\u001b[0m         \u001b[0;32mif\u001b[0m \u001b[0mmessage_body\u001b[0m \u001b[0;32mis\u001b[0m \u001b[0;32mnot\u001b[0m \u001b[0mNone\u001b[0m\u001b[0;34m:\u001b[0m\u001b[0;34m\u001b[0m\u001b[0m\n\u001b[1;32m    884\u001b[0m             \u001b[0;31m#message_body was not a string (i.e. it is a file) and\u001b[0m\u001b[0;34m\u001b[0m\u001b[0;34m\u001b[0m\u001b[0m\n",
      "\u001b[0;32m/home/sakaki/anaconda2/lib/python2.7/httplib.pyc\u001b[0m in \u001b[0;36msend\u001b[0;34m(self, data)\u001b[0m\n\u001b[1;32m    842\u001b[0m         \u001b[0;32mif\u001b[0m \u001b[0mself\u001b[0m\u001b[0;34m.\u001b[0m\u001b[0msock\u001b[0m \u001b[0;32mis\u001b[0m \u001b[0mNone\u001b[0m\u001b[0;34m:\u001b[0m\u001b[0;34m\u001b[0m\u001b[0m\n\u001b[1;32m    843\u001b[0m             \u001b[0;32mif\u001b[0m \u001b[0mself\u001b[0m\u001b[0;34m.\u001b[0m\u001b[0mauto_open\u001b[0m\u001b[0;34m:\u001b[0m\u001b[0;34m\u001b[0m\u001b[0m\n\u001b[0;32m--> 844\u001b[0;31m                 \u001b[0mself\u001b[0m\u001b[0;34m.\u001b[0m\u001b[0mconnect\u001b[0m\u001b[0;34m(\u001b[0m\u001b[0;34m)\u001b[0m\u001b[0;34m\u001b[0m\u001b[0m\n\u001b[0m\u001b[1;32m    845\u001b[0m             \u001b[0;32melse\u001b[0m\u001b[0;34m:\u001b[0m\u001b[0;34m\u001b[0m\u001b[0m\n\u001b[1;32m    846\u001b[0m                 \u001b[0;32mraise\u001b[0m \u001b[0mNotConnected\u001b[0m\u001b[0;34m(\u001b[0m\u001b[0;34m)\u001b[0m\u001b[0;34m\u001b[0m\u001b[0m\n",
      "\u001b[0;32m/home/sakaki/anaconda2/lib/python2.7/site-packages/urllib3/connection.pyc\u001b[0m in \u001b[0;36mconnect\u001b[0;34m(self)\u001b[0m\n\u001b[1;32m    179\u001b[0m \u001b[0;34m\u001b[0m\u001b[0m\n\u001b[1;32m    180\u001b[0m     \u001b[0;32mdef\u001b[0m \u001b[0mconnect\u001b[0m\u001b[0;34m(\u001b[0m\u001b[0mself\u001b[0m\u001b[0;34m)\u001b[0m\u001b[0;34m:\u001b[0m\u001b[0;34m\u001b[0m\u001b[0m\n\u001b[0;32m--> 181\u001b[0;31m         \u001b[0mconn\u001b[0m \u001b[0;34m=\u001b[0m \u001b[0mself\u001b[0m\u001b[0;34m.\u001b[0m\u001b[0m_new_conn\u001b[0m\u001b[0;34m(\u001b[0m\u001b[0;34m)\u001b[0m\u001b[0;34m\u001b[0m\u001b[0m\n\u001b[0m\u001b[1;32m    182\u001b[0m         \u001b[0mself\u001b[0m\u001b[0;34m.\u001b[0m\u001b[0m_prepare_conn\u001b[0m\u001b[0;34m(\u001b[0m\u001b[0mconn\u001b[0m\u001b[0;34m)\u001b[0m\u001b[0;34m\u001b[0m\u001b[0m\n\u001b[1;32m    183\u001b[0m \u001b[0;34m\u001b[0m\u001b[0m\n",
      "\u001b[0;32m/home/sakaki/anaconda2/lib/python2.7/site-packages/urllib3/connection.pyc\u001b[0m in \u001b[0;36m_new_conn\u001b[0;34m(self)\u001b[0m\n\u001b[1;32m    157\u001b[0m         \u001b[0;32mtry\u001b[0m\u001b[0;34m:\u001b[0m\u001b[0;34m\u001b[0m\u001b[0m\n\u001b[1;32m    158\u001b[0m             conn = connection.create_connection(\n\u001b[0;32m--> 159\u001b[0;31m                 (self._dns_host, self.port), self.timeout, **extra_kw)\n\u001b[0m\u001b[1;32m    160\u001b[0m \u001b[0;34m\u001b[0m\u001b[0m\n\u001b[1;32m    161\u001b[0m         \u001b[0;32mexcept\u001b[0m \u001b[0mSocketTimeout\u001b[0m \u001b[0;32mas\u001b[0m \u001b[0me\u001b[0m\u001b[0;34m:\u001b[0m\u001b[0;34m\u001b[0m\u001b[0m\n",
      "\u001b[0;32m/home/sakaki/anaconda2/lib/python2.7/site-packages/urllib3/util/connection.pyc\u001b[0m in \u001b[0;36mcreate_connection\u001b[0;34m(address, timeout, source_address, socket_options)\u001b[0m\n\u001b[1;32m     68\u001b[0m             \u001b[0;32mif\u001b[0m \u001b[0msource_address\u001b[0m\u001b[0;34m:\u001b[0m\u001b[0;34m\u001b[0m\u001b[0m\n\u001b[1;32m     69\u001b[0m                 \u001b[0msock\u001b[0m\u001b[0;34m.\u001b[0m\u001b[0mbind\u001b[0m\u001b[0;34m(\u001b[0m\u001b[0msource_address\u001b[0m\u001b[0;34m)\u001b[0m\u001b[0;34m\u001b[0m\u001b[0m\n\u001b[0;32m---> 70\u001b[0;31m             \u001b[0msock\u001b[0m\u001b[0;34m.\u001b[0m\u001b[0mconnect\u001b[0m\u001b[0;34m(\u001b[0m\u001b[0msa\u001b[0m\u001b[0;34m)\u001b[0m\u001b[0;34m\u001b[0m\u001b[0m\n\u001b[0m\u001b[1;32m     71\u001b[0m             \u001b[0;32mreturn\u001b[0m \u001b[0msock\u001b[0m\u001b[0;34m\u001b[0m\u001b[0m\n\u001b[1;32m     72\u001b[0m \u001b[0;34m\u001b[0m\u001b[0m\n",
      "\u001b[0;32m/home/sakaki/anaconda2/lib/python2.7/socket.pyc\u001b[0m in \u001b[0;36mmeth\u001b[0;34m(name, self, *args)\u001b[0m\n\u001b[1;32m    226\u001b[0m \u001b[0;34m\u001b[0m\u001b[0m\n\u001b[1;32m    227\u001b[0m \u001b[0;32mdef\u001b[0m \u001b[0mmeth\u001b[0m\u001b[0;34m(\u001b[0m\u001b[0mname\u001b[0m\u001b[0;34m,\u001b[0m\u001b[0mself\u001b[0m\u001b[0;34m,\u001b[0m\u001b[0;34m*\u001b[0m\u001b[0margs\u001b[0m\u001b[0;34m)\u001b[0m\u001b[0;34m:\u001b[0m\u001b[0;34m\u001b[0m\u001b[0m\n\u001b[0;32m--> 228\u001b[0;31m     \u001b[0;32mreturn\u001b[0m \u001b[0mgetattr\u001b[0m\u001b[0;34m(\u001b[0m\u001b[0mself\u001b[0m\u001b[0;34m.\u001b[0m\u001b[0m_sock\u001b[0m\u001b[0;34m,\u001b[0m\u001b[0mname\u001b[0m\u001b[0;34m)\u001b[0m\u001b[0;34m(\u001b[0m\u001b[0;34m*\u001b[0m\u001b[0margs\u001b[0m\u001b[0;34m)\u001b[0m\u001b[0;34m\u001b[0m\u001b[0m\n\u001b[0m\u001b[1;32m    229\u001b[0m \u001b[0;34m\u001b[0m\u001b[0m\n\u001b[1;32m    230\u001b[0m \u001b[0;32mfor\u001b[0m \u001b[0m_m\u001b[0m \u001b[0;32min\u001b[0m \u001b[0m_socketmethods\u001b[0m\u001b[0;34m:\u001b[0m\u001b[0;34m\u001b[0m\u001b[0m\n",
      "\u001b[0;31mKeyboardInterrupt\u001b[0m: "
     ]
    }
   ],
   "source": [
    "for x in range(diasLoop+1):\n",
    "    \n",
    "    pagina = 1\n",
    "    flgStop = True\n",
    "    \n",
    "    while flgStop:\n",
    "        \n",
    "        url = urlBase + str(dataInicial.year) + '/' + mesPt[dataInicial.month -1] + '/' + str(dataInicial.day).zfill(2) + '/' + cadernos[cadernoIndex] + '/pdf/pg_' + str(pagina).zfill(4) + '.pdf'\n",
    "        arqPath = path + str(dataInicial.year) + '/' + mesPt[dataInicial.month -1] + '/' + str(dataInicial.day) + '/' + cadernos[cadernoIndex] + '/'\n",
    "        arqName =  'pg_' + str(pagina).zfill(4) + '.pdf'\n",
    "        \n",
    "        pagina += 1\n",
    "        flgStop = download(url,arqPath,arqName)\n",
    "    \n",
    "    dataInicial = dataInicial + timedelta(days=1)"
   ]
  },
  {
   "cell_type": "code",
   "execution_count": null,
   "metadata": {},
   "outputs": [],
   "source": []
  },
  {
   "cell_type": "code",
   "execution_count": null,
   "metadata": {},
   "outputs": [],
   "source": []
  },
  {
   "cell_type": "code",
   "execution_count": null,
   "metadata": {},
   "outputs": [],
   "source": []
  }
 ],
 "metadata": {
  "kernelspec": {
   "display_name": "Python 2",
   "language": "python",
   "name": "python2"
  },
  "language_info": {
   "codemirror_mode": {
    "name": "ipython",
    "version": 2
   },
   "file_extension": ".py",
   "mimetype": "text/x-python",
   "name": "python",
   "nbconvert_exporter": "python",
   "pygments_lexer": "ipython2",
   "version": "2.7.15"
  }
 },
 "nbformat": 4,
 "nbformat_minor": 2
}
